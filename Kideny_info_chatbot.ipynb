{
  "nbformat": 4,
  "nbformat_minor": 0,
  "metadata": {
    "colab": {
      "name": "Kideny info_chatbot.ipynb",
      "provenance": []
    },
    "kernelspec": {
      "name": "python3",
      "display_name": "Python 3"
    },
    "language_info": {
      "name": "python"
    }
  },
  "cells": [
    {
      "cell_type": "markdown",
      "metadata": {
        "id": "fFnwKTVI_IH2"
      },
      "source": [
        "#**This is kideny disease chatbot**"
      ]
    },
    {
      "cell_type": "code",
      "metadata": {
        "colab": {
          "base_uri": "https://localhost:8080/"
        },
        "id": "GTXKjfp0_OL-",
        "outputId": "48e496ee-a1e2-4c22-9bc2-1d9f4db0534f"
      },
      "source": [
        "pip install nltk"
      ],
      "execution_count": 1,
      "outputs": [
        {
          "output_type": "stream",
          "text": [
            "Requirement already satisfied: nltk in /usr/local/lib/python3.7/dist-packages (3.2.5)\n",
            "Requirement already satisfied: six in /usr/local/lib/python3.7/dist-packages (from nltk) (1.15.0)\n"
          ],
          "name": "stdout"
        }
      ]
    },
    {
      "cell_type": "code",
      "metadata": {
        "colab": {
          "base_uri": "https://localhost:8080/"
        },
        "id": "DjD1ONk5A9J7",
        "outputId": "1ef1e72a-e236-4c00-fa46-50892620d2dc"
      },
      "source": [
        "pip install newspaper3k"
      ],
      "execution_count": 2,
      "outputs": [
        {
          "output_type": "stream",
          "text": [
            "Collecting newspaper3k\n",
            "\u001b[?25l  Downloading https://files.pythonhosted.org/packages/d7/b9/51afecb35bb61b188a4b44868001de348a0e8134b4dfa00ffc191567c4b9/newspaper3k-0.2.8-py3-none-any.whl (211kB)\n",
            "\u001b[K     |████████████████████████████████| 215kB 6.8MB/s \n",
            "\u001b[?25hRequirement already satisfied: beautifulsoup4>=4.4.1 in /usr/local/lib/python3.7/dist-packages (from newspaper3k) (4.6.3)\n",
            "Requirement already satisfied: python-dateutil>=2.5.3 in /usr/local/lib/python3.7/dist-packages (from newspaper3k) (2.8.1)\n",
            "Collecting feedparser>=5.2.1\n",
            "\u001b[?25l  Downloading https://files.pythonhosted.org/packages/1c/21/faf1bac028662cc8adb2b5ef7a6f3999a765baa2835331df365289b0ca56/feedparser-6.0.2-py3-none-any.whl (80kB)\n",
            "\u001b[K     |████████████████████████████████| 81kB 6.7MB/s \n",
            "\u001b[?25hCollecting jieba3k>=0.35.1\n",
            "\u001b[?25l  Downloading https://files.pythonhosted.org/packages/a9/cb/2c8332bcdc14d33b0bedd18ae0a4981a069c3513e445120da3c3f23a8aaa/jieba3k-0.35.1.zip (7.4MB)\n",
            "\u001b[K     |████████████████████████████████| 7.4MB 10.6MB/s \n",
            "\u001b[?25hRequirement already satisfied: PyYAML>=3.11 in /usr/local/lib/python3.7/dist-packages (from newspaper3k) (3.13)\n",
            "Collecting feedfinder2>=0.0.4\n",
            "  Downloading https://files.pythonhosted.org/packages/35/82/1251fefec3bb4b03fd966c7e7f7a41c9fc2bb00d823a34c13f847fd61406/feedfinder2-0.0.4.tar.gz\n",
            "Requirement already satisfied: Pillow>=3.3.0 in /usr/local/lib/python3.7/dist-packages (from newspaper3k) (7.1.2)\n",
            "Requirement already satisfied: lxml>=3.6.0 in /usr/local/lib/python3.7/dist-packages (from newspaper3k) (4.2.6)\n",
            "Collecting tinysegmenter==0.3\n",
            "  Downloading https://files.pythonhosted.org/packages/17/82/86982e4b6d16e4febc79c2a1d68ee3b707e8a020c5d2bc4af8052d0f136a/tinysegmenter-0.3.tar.gz\n",
            "Requirement already satisfied: requests>=2.10.0 in /usr/local/lib/python3.7/dist-packages (from newspaper3k) (2.23.0)\n",
            "Requirement already satisfied: nltk>=3.2.1 in /usr/local/lib/python3.7/dist-packages (from newspaper3k) (3.2.5)\n",
            "Collecting cssselect>=0.9.2\n",
            "  Downloading https://files.pythonhosted.org/packages/3b/d4/3b5c17f00cce85b9a1e6f91096e1cc8e8ede2e1be8e96b87ce1ed09e92c5/cssselect-1.1.0-py2.py3-none-any.whl\n",
            "Collecting tldextract>=2.0.1\n",
            "\u001b[?25l  Downloading https://files.pythonhosted.org/packages/7e/62/b6acd3129c5615b9860e670df07fd55b76175b63e6b7f68282c7cad38e9e/tldextract-3.1.0-py2.py3-none-any.whl (87kB)\n",
            "\u001b[K     |████████████████████████████████| 92kB 10.7MB/s \n",
            "\u001b[?25hRequirement already satisfied: six>=1.5 in /usr/local/lib/python3.7/dist-packages (from python-dateutil>=2.5.3->newspaper3k) (1.15.0)\n",
            "Collecting sgmllib3k\n",
            "  Downloading https://files.pythonhosted.org/packages/9e/bd/3704a8c3e0942d711c1299ebf7b9091930adae6675d7c8f476a7ce48653c/sgmllib3k-1.0.0.tar.gz\n",
            "Requirement already satisfied: certifi>=2017.4.17 in /usr/local/lib/python3.7/dist-packages (from requests>=2.10.0->newspaper3k) (2020.12.5)\n",
            "Requirement already satisfied: chardet<4,>=3.0.2 in /usr/local/lib/python3.7/dist-packages (from requests>=2.10.0->newspaper3k) (3.0.4)\n",
            "Requirement already satisfied: idna<3,>=2.5 in /usr/local/lib/python3.7/dist-packages (from requests>=2.10.0->newspaper3k) (2.10)\n",
            "Requirement already satisfied: urllib3!=1.25.0,!=1.25.1,<1.26,>=1.21.1 in /usr/local/lib/python3.7/dist-packages (from requests>=2.10.0->newspaper3k) (1.24.3)\n",
            "Collecting requests-file>=1.4\n",
            "  Downloading https://files.pythonhosted.org/packages/77/86/cdb5e8eaed90796aa83a6d9f75cfbd37af553c47a291cd47bc410ef9bdb2/requests_file-1.5.1-py2.py3-none-any.whl\n",
            "Requirement already satisfied: filelock>=3.0.8 in /usr/local/lib/python3.7/dist-packages (from tldextract>=2.0.1->newspaper3k) (3.0.12)\n",
            "Building wheels for collected packages: jieba3k, feedfinder2, tinysegmenter, sgmllib3k\n",
            "  Building wheel for jieba3k (setup.py) ... \u001b[?25l\u001b[?25hdone\n",
            "  Created wheel for jieba3k: filename=jieba3k-0.35.1-cp37-none-any.whl size=7398406 sha256=929613dcaa66d4654f1851a7724454bf70371aa0fb2a9b3154da6f6104dd7709\n",
            "  Stored in directory: /root/.cache/pip/wheels/83/15/9c/a3f1f67e7f7181170ad37d32e503c35da20627c013f438ed34\n",
            "  Building wheel for feedfinder2 (setup.py) ... \u001b[?25l\u001b[?25hdone\n",
            "  Created wheel for feedfinder2: filename=feedfinder2-0.0.4-cp37-none-any.whl size=3358 sha256=2558afb4305b2ebb7ab86c75196aaa25847ad3d7ba977e4bda89acaef22354df\n",
            "  Stored in directory: /root/.cache/pip/wheels/de/03/ca/778e3a7a627e3d98836cc890e7cb40c7575424cfd3340f40ed\n",
            "  Building wheel for tinysegmenter (setup.py) ... \u001b[?25l\u001b[?25hdone\n",
            "  Created wheel for tinysegmenter: filename=tinysegmenter-0.3-cp37-none-any.whl size=13538 sha256=de3bf9dbd25c3fd6a9e74dabba30db80858419b55678755a4acb74f4023c0ebc\n",
            "  Stored in directory: /root/.cache/pip/wheels/81/2b/43/a02ede72324dd40cdd7ca53aad718c7710628e91b8b0dc0f02\n",
            "  Building wheel for sgmllib3k (setup.py) ... \u001b[?25l\u001b[?25hdone\n",
            "  Created wheel for sgmllib3k: filename=sgmllib3k-1.0.0-cp37-none-any.whl size=6067 sha256=fa378f750a6ba87df586cddaf673a3782c91717ae9f8034723b5f2182ef0b2f5\n",
            "  Stored in directory: /root/.cache/pip/wheels/f1/80/5a/444ba08a550cdd241bd9baf8bae44be750efe370adb944506a\n",
            "Successfully built jieba3k feedfinder2 tinysegmenter sgmllib3k\n",
            "Installing collected packages: sgmllib3k, feedparser, jieba3k, feedfinder2, tinysegmenter, cssselect, requests-file, tldextract, newspaper3k\n",
            "Successfully installed cssselect-1.1.0 feedfinder2-0.0.4 feedparser-6.0.2 jieba3k-0.35.1 newspaper3k-0.2.8 requests-file-1.5.1 sgmllib3k-1.0.0 tinysegmenter-0.3 tldextract-3.1.0\n"
          ],
          "name": "stdout"
        }
      ]
    },
    {
      "cell_type": "code",
      "metadata": {
        "id": "hnVTT2A_BDH3"
      },
      "source": [
        "#import library\n",
        "from newspaper import Article\n",
        "import random\n",
        "import string\n",
        "import nltk\n",
        "from sklearn.feature_extraction.text import CountVectorizer\n",
        "from sklearn.metrics.pairwise import cosine_similarity\n",
        "import numpy as np\n",
        "import warnings\n",
        "warnings.filterwarnings('ignore')\n"
      ],
      "execution_count": 3,
      "outputs": []
    },
    {
      "cell_type": "code",
      "metadata": {
        "colab": {
          "base_uri": "https://localhost:8080/"
        },
        "id": "gwDGJdVqCoLJ",
        "outputId": "6ad30d4a-0138-434d-d947-cf9e1da46a9d"
      },
      "source": [
        "#dowload the punnkt package\n",
        "nltk.download ('punkt', quiet = True)"
      ],
      "execution_count": 4,
      "outputs": [
        {
          "output_type": "execute_result",
          "data": {
            "text/plain": [
              "True"
            ]
          },
          "metadata": {
            "tags": []
          },
          "execution_count": 4
        }
      ]
    },
    {
      "cell_type": "markdown",
      "metadata": {
        "id": "mFXtkS2Xeqv8"
      },
      "source": [
        "**I am use in the arcticle the data from website for kidney-disease https://www.healthline.com/health/kidney-disease\n",
        "please check it. \n",
        "Any data from google web we can creat chatbot for give proper knowdlge'**"
      ]
    },
    {
      "cell_type": "code",
      "metadata": {
        "id": "kPsYNqpZC-D3"
      },
      "source": [
        "article = Article(\"https://www.healthline.com/health/kidney-disease\")\n",
        "article.download()\n",
        "article.parse()\n",
        "article.nlp()\n",
        "corpus= article.text"
      ],
      "execution_count": 5,
      "outputs": []
    },
    {
      "cell_type": "code",
      "metadata": {
        "colab": {
          "base_uri": "https://localhost:8080/"
        },
        "id": "mJqRYl7rFbdA",
        "outputId": "47c37c35-67c4-47b0-c590-ec2aeb8c9b38"
      },
      "source": [
        "print(corpus)"
      ],
      "execution_count": 6,
      "outputs": [
        {
          "output_type": "stream",
          "text": [
            "What is kidney disease? The kidneys are a pair of fist-sized organs located at the bottom of the rib cage. There is one kidney on each side of the spine. Kidneys are essential to having a healthy body. They are mainly responsible for filtering waste products, excess water, and other impurities out of the blood. These toxins are stored in the bladder and then removed during urination. The kidneys also regulate pH, salt, and potassium levels in the body. They produce hormones that regulate blood pressure and control the production of red blood cells. The kidneys even activate a form of vitamin D that helps the body absorb calcium. Kidney disease affects approximately 26 million American adults. It occurs when your kidneys become damaged and can’t perform their function. Damage may be caused by diabetes, high blood pressure, and various other chronic (long-term) conditions. Kidney disease can lead to other health problems, including weak bones, nerve damage, and malnutrition. If the disease gets worse over time, your kidneys may stop working completely. This means that dialysis will be required to perform the function of the kidneys. Dialysis is a treatment that filters and purifies the blood using a machine. It can’t cure kidney disease, but it can prolong your life.\n",
            "\n",
            "What are the types and causes of kidney disease? Chronic kidney disease The most common form of kidney disease is chronic kidney disease. Chronic kidney disease is a long-term condition that doesn’t improve over time. It’s commonly caused by high blood pressure. High blood pressure is dangerous for the kidneys because it can increase the pressure on the glomeruli. Glomeruli are the tiny blood vessels in the kidneys where blood is cleaned. Over time, the increased pressure damages these vessels and kidney function begins to decline. Kidney function will eventually deteriorate to the point where the kidneys can no longer perform their job properly. In this case, a person would need to go on dialysis. Dialysis filters extra fluid and waste out of the blood. Dialysis can help treat kidney disease but it can’t cure it. A kidney transplant may be another treatment option depending on your circumstances. Diabetes is also a major cause of chronic kidney disease. Diabetes is a group of diseases that causes high blood sugar. The increased level of sugar in the blood damages the blood vessels in the kidneys over time. This means the kidneys can’t clean the blood properly. Kidney failure can occur when your body becomes overloaded with toxins. Kidney stones Kidney stones are another common kidney problem. They occur when minerals and other substances in the blood crystallize in the kidneys, forming solid masses (stones). Kidney stones usually come out of the body during urination. Passing kidney stones can be extremely painful, but they rarely cause significant problems. Glomerulonephritis Glomerulonephritis is an inflammation of the glomeruli. Glomeruli are extremely small structures inside the kidneys that filter the blood. Glomerulonephritis can be caused by infections, drugs, or congenital abnormalities (disorders that occur during or shortly after birth). It often gets better on its own. Polycystic kidney disease Polycystic kidney disease is a genetic disorder that causes numerous cysts (small sacs of fluid) to grow in the kidneys. These cysts can interfere with kidney function and cause kidney failure. (It’s important to note that individual kidney cysts are fairly common and almost always harmless. Polycystic kidney disease is a separate, more serious condition.) Urinary tract infections Urinary tract infections (UTIs) are bacterial infections of any part of the urinary system. Infections in the bladder and urethra are the most common. They are easily treatable and rarely lead to more health problems. However, if left untreated, these infections can spread to the kidneys and cause kidney failure.\n",
            "\n",
            "What are the risk factors for developing kidney disease? People with diabetes have a higher risk of developing kidney disease. Diabetes is the leading cause of kidney disease, accounting for about 44 percent of new cases. You may also be more likely to get kidney disease if you: have high blood pressure\n",
            "\n",
            "have other family members with chronic kidney disease\n",
            "\n",
            "are elderly\n",
            "\n",
            "are of African, Hispanic, Asian, or American Indian descent Learn more: Type 2 diabetes and kidney disease »\n",
            "\n",
            "How is kidney disease diagnosed? Your doctor will first determine whether you belong in any of the high-risk groups. They will then run some tests to see if your kidneys are functioning properly. These tests may include: Glomerular filtration rate (GFR) This test will measure how well your kidneys are working and determine the stage of kidney disease. Ultrasound or computed tomography (CT) Scan Ultrasounds and CT scans produce clear images of your kidneys and urinary tract. The pictures allow your doctor to see if your kidneys are too small or large. They can also show any tumors or structural problems that may be present. Kidney biopsy During a kidney biopsy, your doctor will remove a small piece of tissue from your kidney while you’re sedated. The tissue sample can help your doctor determine the type of kidney disease you have and how much damage has occurred. Urine test Your doctor may request a urine sample to test for albumin. Albumin is a protein that can be passed into your urine when your kidneys are damaged. Blood creatinine test Creatinine is a waste product. It’s released into the blood when creatine (a molecule stored in muscle) is broken down. The levels of creatinine in your blood will increase if your kidneys aren’t working properly. Learn more: Excessive urination at night »\n",
            "\n",
            "How is kidney disease treated? Treatment for kidney disease usually focuses on controlling the underlying cause of the disease. This means your doctor will help you better manage your blood pressure, blood sugar, and cholesterol levels. They may use one or more of the following methods to treat kidney disease. Drugs and medication Your doctor will either prescribe angiotensin-converting enzyme (ACE) inhibitors, such as lisinopril and ramipril, or angiotensin receptor blockers (ARBs), such as irbesartan and olmesartan. These are blood pressure medications that can slow the progression of kidney disease. Your doctor may prescribe these medications to preserve kidney function, even if you don’t have high blood pressure. You may also be treated with cholesterol drugs (such as simvastatin). These medications can reduce blood cholesterol levels and help maintain kidney health. Depending on your symptoms, your doctor may also prescribe drugs to relieve swelling and treat anemia (decrease in the number of red blood cells). Dietary and lifestyle changes Making changes to your diet is just as important as taking medication. Adopting a healthy lifestyle can help prevent many of the underlying causes of kidney disease. Your doctor may recommend that you: control diabetes through insulin injections\n",
            "\n",
            "cut back on foods high in cholesterol\n",
            "\n",
            "cut back on salt\n",
            "\n",
            "start a heart-healthy diet that includes fresh fruits, veggies, whole grains, and low-fat dairy products\n",
            "\n",
            "limit alcohol consumption\n",
            "\n",
            "quit smoking\n",
            "\n",
            "increase physical activity\n",
            "\n",
            "lose weight Learn more: What do you want to know about fitness and exercise? »\n",
            "\n",
            "Dialysis and kidney disease Dialysis is an artificial method of filtering the blood. It’s used when someone’s kidneys have failed or are close to failing. Many people with late-stage kidney disease must go on dialysis permanently or until a donor kidney is found. There are two types of dialysis: hemodialysis and peritoneal dialysis. Hemodialysis In hemodialysis, the blood is pumped through a special machine that filters out waste products and fluid. Hemodialysis is done at your home or in a hospital or dialysis center. Most people have three sessions per week, with each session lasting three to five hours. However, hemodialysis can also be done in shorter, more frequent sessions. Several weeks before starting hemodialysis, most people will have surgery to create an arteriovenous (AV) fistula. An AV fistula is created by connecting an artery and a vein just below the skin, typically in the forearm. The larger blood vessel allows an increased amount of blood to flow continuously through the body during hemodialysis treatment. This means more blood can be filtered and purified. An arteriovenous graft (a looped, plastic tube) may be implanted and used for the same purpose if an artery and vein can’t be joined together. The most common side effects of hemodialysis are low blood pressure, muscle cramping, and itching. Peritoneal dialysis In peritoneal dialysis, the peritoneum (membrane that lines the abdominal wall) stands in for the kidneys. A tube is implanted and used to fill the abdomen with a fluid called dialysate. Waste products in the blood flow from the peritoneum into the dialysate. The dialysate is then drained from the abdomen. There are two forms of peritoneal dialysis: continuous ambulatory peritonealdialysis, where the abdomen is filled and drained several times during the day, and continuous cycler-assisted peritoneal dialysis, which uses a machine to cycle the fluid in and out of the abdomen at night while the person sleeps. The most common side effects of peritoneal dialysis are infections in the abdominal cavity or in the area where the tube was implanted. Other side effects may include weight gain and hernias. A hernia is when the intestine pushes through a weak spot or tear in the lower abdominal wall.\n",
            "\n",
            "What is the long-term outlook for someone with kidney disease? Kidney disease normally does not go away once it’s diagnosed. The best way to maintain kidney health is to adopt a healthy lifestyle and follow your doctor’s advice. Kidney disease can get worse over time. It may even lead to kidney failure. Kidney failure can be life-threatening if left untreated. Kidney failure occurs when your kidneys are barely working or not working at all. This is managed by dialysis. Dialysis involves the use of a machine to filter waste from your blood. In some cases, your doctor may recommend a kidney transplant.\n"
          ],
          "name": "stdout"
        }
      ]
    },
    {
      "cell_type": "code",
      "metadata": {
        "id": "aZF223YtFlLV"
      },
      "source": [
        "text = corpus\n",
        "sentencne_list = nltk.sent_tokenize(text)"
      ],
      "execution_count": 7,
      "outputs": []
    },
    {
      "cell_type": "code",
      "metadata": {
        "colab": {
          "base_uri": "https://localhost:8080/"
        },
        "id": "_fcDV0umF4oe",
        "outputId": "8232068d-ab7b-4cc5-932d-fcb2aeb489fd"
      },
      "source": [
        "print (sentencne_list)"
      ],
      "execution_count": 8,
      "outputs": [
        {
          "output_type": "stream",
          "text": [
            "['What is kidney disease?', 'The kidneys are a pair of fist-sized organs located at the bottom of the rib cage.', 'There is one kidney on each side of the spine.', 'Kidneys are essential to having a healthy body.', 'They are mainly responsible for filtering waste products, excess water, and other impurities out of the blood.', 'These toxins are stored in the bladder and then removed during urination.', 'The kidneys also regulate pH, salt, and potassium levels in the body.', 'They produce hormones that regulate blood pressure and control the production of red blood cells.', 'The kidneys even activate a form of vitamin D that helps the body absorb calcium.', 'Kidney disease affects approximately 26 million American adults.', 'It occurs when your kidneys become damaged and can’t perform their function.', 'Damage may be caused by diabetes, high blood pressure, and various other chronic (long-term) conditions.', 'Kidney disease can lead to other health problems, including weak bones, nerve damage, and malnutrition.', 'If the disease gets worse over time, your kidneys may stop working completely.', 'This means that dialysis will be required to perform the function of the kidneys.', 'Dialysis is a treatment that filters and purifies the blood using a machine.', 'It can’t cure kidney disease, but it can prolong your life.', 'What are the types and causes of kidney disease?', 'Chronic kidney disease The most common form of kidney disease is chronic kidney disease.', 'Chronic kidney disease is a long-term condition that doesn’t improve over time.', 'It’s commonly caused by high blood pressure.', 'High blood pressure is dangerous for the kidneys because it can increase the pressure on the glomeruli.', 'Glomeruli are the tiny blood vessels in the kidneys where blood is cleaned.', 'Over time, the increased pressure damages these vessels and kidney function begins to decline.', 'Kidney function will eventually deteriorate to the point where the kidneys can no longer perform their job properly.', 'In this case, a person would need to go on dialysis.', 'Dialysis filters extra fluid and waste out of the blood.', 'Dialysis can help treat kidney disease but it can’t cure it.', 'A kidney transplant may be another treatment option depending on your circumstances.', 'Diabetes is also a major cause of chronic kidney disease.', 'Diabetes is a group of diseases that causes high blood sugar.', 'The increased level of sugar in the blood damages the blood vessels in the kidneys over time.', 'This means the kidneys can’t clean the blood properly.', 'Kidney failure can occur when your body becomes overloaded with toxins.', 'Kidney stones Kidney stones are another common kidney problem.', 'They occur when minerals and other substances in the blood crystallize in the kidneys, forming solid masses (stones).', 'Kidney stones usually come out of the body during urination.', 'Passing kidney stones can be extremely painful, but they rarely cause significant problems.', 'Glomerulonephritis Glomerulonephritis is an inflammation of the glomeruli.', 'Glomeruli are extremely small structures inside the kidneys that filter the blood.', 'Glomerulonephritis can be caused by infections, drugs, or congenital abnormalities (disorders that occur during or shortly after birth).', 'It often gets better on its own.', 'Polycystic kidney disease Polycystic kidney disease is a genetic disorder that causes numerous cysts (small sacs of fluid) to grow in the kidneys.', 'These cysts can interfere with kidney function and cause kidney failure.', '(It’s important to note that individual kidney cysts are fairly common and almost always harmless.', 'Polycystic kidney disease is a separate, more serious condition.)', 'Urinary tract infections Urinary tract infections (UTIs) are bacterial infections of any part of the urinary system.', 'Infections in the bladder and urethra are the most common.', 'They are easily treatable and rarely lead to more health problems.', 'However, if left untreated, these infections can spread to the kidneys and cause kidney failure.', 'What are the risk factors for developing kidney disease?', 'People with diabetes have a higher risk of developing kidney disease.', 'Diabetes is the leading cause of kidney disease, accounting for about 44 percent of new cases.', 'You may also be more likely to get kidney disease if you: have high blood pressure\\n\\nhave other family members with chronic kidney disease\\n\\nare elderly\\n\\nare of African, Hispanic, Asian, or American Indian descent Learn more: Type 2 diabetes and kidney disease »\\n\\nHow is kidney disease diagnosed?', 'Your doctor will first determine whether you belong in any of the high-risk groups.', 'They will then run some tests to see if your kidneys are functioning properly.', 'These tests may include: Glomerular filtration rate (GFR) This test will measure how well your kidneys are working and determine the stage of kidney disease.', 'Ultrasound or computed tomography (CT) Scan Ultrasounds and CT scans produce clear images of your kidneys and urinary tract.', 'The pictures allow your doctor to see if your kidneys are too small or large.', 'They can also show any tumors or structural problems that may be present.', 'Kidney biopsy During a kidney biopsy, your doctor will remove a small piece of tissue from your kidney while you’re sedated.', 'The tissue sample can help your doctor determine the type of kidney disease you have and how much damage has occurred.', 'Urine test Your doctor may request a urine sample to test for albumin.', 'Albumin is a protein that can be passed into your urine when your kidneys are damaged.', 'Blood creatinine test Creatinine is a waste product.', 'It’s released into the blood when creatine (a molecule stored in muscle) is broken down.', 'The levels of creatinine in your blood will increase if your kidneys aren’t working properly.', 'Learn more: Excessive urination at night »\\n\\nHow is kidney disease treated?', 'Treatment for kidney disease usually focuses on controlling the underlying cause of the disease.', 'This means your doctor will help you better manage your blood pressure, blood sugar, and cholesterol levels.', 'They may use one or more of the following methods to treat kidney disease.', 'Drugs and medication Your doctor will either prescribe angiotensin-converting enzyme (ACE) inhibitors, such as lisinopril and ramipril, or angiotensin receptor blockers (ARBs), such as irbesartan and olmesartan.', 'These are blood pressure medications that can slow the progression of kidney disease.', 'Your doctor may prescribe these medications to preserve kidney function, even if you don’t have high blood pressure.', 'You may also be treated with cholesterol drugs (such as simvastatin).', 'These medications can reduce blood cholesterol levels and help maintain kidney health.', 'Depending on your symptoms, your doctor may also prescribe drugs to relieve swelling and treat anemia (decrease in the number of red blood cells).', 'Dietary and lifestyle changes Making changes to your diet is just as important as taking medication.', 'Adopting a healthy lifestyle can help prevent many of the underlying causes of kidney disease.', 'Your doctor may recommend that you: control diabetes through insulin injections\\n\\ncut back on foods high in cholesterol\\n\\ncut back on salt\\n\\nstart a heart-healthy diet that includes fresh fruits, veggies, whole grains, and low-fat dairy products\\n\\nlimit alcohol consumption\\n\\nquit smoking\\n\\nincrease physical activity\\n\\nlose weight Learn more: What do you want to know about fitness and exercise?', '»\\n\\nDialysis and kidney disease Dialysis is an artificial method of filtering the blood.', 'It’s used when someone’s kidneys have failed or are close to failing.', 'Many people with late-stage kidney disease must go on dialysis permanently or until a donor kidney is found.', 'There are two types of dialysis: hemodialysis and peritoneal dialysis.', 'Hemodialysis In hemodialysis, the blood is pumped through a special machine that filters out waste products and fluid.', 'Hemodialysis is done at your home or in a hospital or dialysis center.', 'Most people have three sessions per week, with each session lasting three to five hours.', 'However, hemodialysis can also be done in shorter, more frequent sessions.', 'Several weeks before starting hemodialysis, most people will have surgery to create an arteriovenous (AV) fistula.', 'An AV fistula is created by connecting an artery and a vein just below the skin, typically in the forearm.', 'The larger blood vessel allows an increased amount of blood to flow continuously through the body during hemodialysis treatment.', 'This means more blood can be filtered and purified.', 'An arteriovenous graft (a looped, plastic tube) may be implanted and used for the same purpose if an artery and vein can’t be joined together.', 'The most common side effects of hemodialysis are low blood pressure, muscle cramping, and itching.', 'Peritoneal dialysis In peritoneal dialysis, the peritoneum (membrane that lines the abdominal wall) stands in for the kidneys.', 'A tube is implanted and used to fill the abdomen with a fluid called dialysate.', 'Waste products in the blood flow from the peritoneum into the dialysate.', 'The dialysate is then drained from the abdomen.', 'There are two forms of peritoneal dialysis: continuous ambulatory peritonealdialysis, where the abdomen is filled and drained several times during the day, and continuous cycler-assisted peritoneal dialysis, which uses a machine to cycle the fluid in and out of the abdomen at night while the person sleeps.', 'The most common side effects of peritoneal dialysis are infections in the abdominal cavity or in the area where the tube was implanted.', 'Other side effects may include weight gain and hernias.', 'A hernia is when the intestine pushes through a weak spot or tear in the lower abdominal wall.', 'What is the long-term outlook for someone with kidney disease?', 'Kidney disease normally does not go away once it’s diagnosed.', 'The best way to maintain kidney health is to adopt a healthy lifestyle and follow your doctor’s advice.', 'Kidney disease can get worse over time.', 'It may even lead to kidney failure.', 'Kidney failure can be life-threatening if left untreated.', 'Kidney failure occurs when your kidneys are barely working or not working at all.', 'This is managed by dialysis.', 'Dialysis involves the use of a machine to filter waste from your blood.', 'In some cases, your doctor may recommend a kidney transplant.']\n"
          ],
          "name": "stdout"
        }
      ]
    },
    {
      "cell_type": "code",
      "metadata": {
        "id": "NrQsDqFnGBYn"
      },
      "source": [
        "def greet_response(text):\n",
        "  text = text.lower()\n",
        "  #Bots response\n",
        "  bot_greet= [\"how\",\"hello\", \"hey\",\"hi\",\"hola\"]\n",
        "  #user respnse\n",
        "  user_greet= [\"hi\",\"hello\", \"great\",\"waw\",\"wassup\"]\n",
        "\n",
        "  for word in text.split():\n",
        "   if word in user_greet:\n",
        "    return random.choice(bot_greet)"
      ],
      "execution_count": 9,
      "outputs": []
    },
    {
      "cell_type": "code",
      "metadata": {
        "id": "fPvlIGlyI8ie"
      },
      "source": [
        "def index_sort(list_var):\n",
        "  length = len(list_var)\n",
        "  list_index = list(range(0, length))\n",
        "\n",
        "  x = list_var\n",
        "  for i in range(length):\n",
        "    for j in range(length):\n",
        "      if x[list_index[i]] > [list_index[j]]:\n",
        "        \n",
        "        temp =list_index[i]\n",
        "        list_index[i]= list_index[j]\n",
        "        list_index[j]= temp\n",
        "\n",
        "  return list_index\n"
      ],
      "execution_count": 10,
      "outputs": []
    },
    {
      "cell_type": "code",
      "metadata": {
        "id": "4k2XOP9yM-7q"
      },
      "source": [
        "#creat chot bot\n",
        "def bot_resp(user_input):\n",
        "  user_input= user_input.lower()\n",
        "  sentencne_list.append(user_input)\n",
        "  bot_resp = ''\n",
        "  cm = CountVectorizer().fit_transform(sentencne_list)\n",
        "  similarity_scr =cosine_similarity(cm[-1],cm)\n",
        "  similarity_scr_list = similarity_scr.flatten()\n",
        "  index = index_sort(similarity_scr_list)\n",
        "  index = index[1:]\n",
        "  res_flag = 0\n",
        "\n",
        "  j = 0 \n",
        "  for i in range(len(index)):\n",
        "    if similarity_scr_list[index[i]] > 0.0:\n",
        "      bot_resp = bot_resp+' '+sentencne_list[index[i]]\n",
        "      res_flag = 1\n",
        "      j = j+1\n",
        "    if j > 2:\n",
        "      break\n",
        "\n",
        "  if res_flag == 0:\n",
        "    bot_resp = bot_resp+' '+ \"I apologize, I don't understant.\"\n",
        "\n",
        "\n",
        "  sentencne_list.remove(user_input)\n",
        "\n",
        "  return bot_resp"
      ],
      "execution_count": 11,
      "outputs": []
    },
    {
      "cell_type": "code",
      "metadata": {
        "colab": {
          "base_uri": "https://localhost:8080/"
        },
        "id": "q7YIKCsIRbP9",
        "outputId": "3ddc6a2d-4ec8-4266-e541-5a15d837bd95"
      },
      "source": [
        "# start chat\n",
        "print(\"Dr.bot: I am a doctor bot ,I will give answer about chromic kideny  disease \")\n",
        "\n",
        "exit_list = ['exit','see you','bye', 'quit','break']\n",
        "\n",
        "while(True):\n",
        "  user_input = input()\n",
        "  if user_input.lower() in exit_list:\n",
        "    print('Dr.bot: Chat with you later Have a nice day!')\n",
        "    break\n",
        "  else:\n",
        "    if greet_response(user_input) != None:\n",
        "      print('Dr.bot: '+greet_response(user_input))\n",
        "    else:\n",
        "      print('Dr.bot: '+bot_resp(user_input))\n"
      ],
      "execution_count": 12,
      "outputs": [
        {
          "output_type": "stream",
          "text": [
            "Dr.bot: I am a doctor bot ,I will give answer about chromic kideny  disease \n",
            "hi\n",
            "Dr.bot: hola\n",
            "hello\n",
            "Dr.bot: how\n",
            "give information about kideny\n",
            "Dr.bot:  Your doctor may recommend that you: control diabetes through insulin injections\n",
            "\n",
            "cut back on foods high in cholesterol\n",
            "\n",
            "cut back on salt\n",
            "\n",
            "start a heart-healthy diet that includes fresh fruits, veggies, whole grains, and low-fat dairy products\n",
            "\n",
            "limit alcohol consumption\n",
            "\n",
            "quit smoking\n",
            "\n",
            "increase physical activity\n",
            "\n",
            "lose weight Learn more: What do you want to know about fitness and exercise? give information about kideny\n",
            "types of kidney\n",
            "Dr.bot:  There is one kidney on each side of the spine. They are mainly responsible for filtering waste products, excess water, and other impurities out of the blood. They produce hormones that regulate blood pressure and control the production of red blood cells.\n",
            "effect of kideny diesease\n",
            "Dr.bot:  There is one kidney on each side of the spine. They are mainly responsible for filtering waste products, excess water, and other impurities out of the blood. They produce hormones that regulate blood pressure and control the production of red blood cells.\n",
            "more type of kideny\n",
            "Dr.bot:  There is one kidney on each side of the spine. They are mainly responsible for filtering waste products, excess water, and other impurities out of the blood. They produce hormones that regulate blood pressure and control the production of red blood cells.\n",
            "exit\n",
            "Dr.bot: Chat with you later Have a nice day!\n"
          ],
          "name": "stdout"
        }
      ]
    }
  ]
}